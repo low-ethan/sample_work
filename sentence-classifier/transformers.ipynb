{
 "cells": [
  {
   "cell_type": "code",
   "execution_count": 1,
   "metadata": {
    "collapsed": true,
    "pycharm": {
     "name": "#%%\n"
    }
   },
   "outputs": [],
   "source": [
    "import flair.data\n",
    "import pandas as pd\n",
    "from flair.data import Corpus\n",
    "from flair.datasets import TREC_6\n",
    "from flair.embeddings import TransformerDocumentEmbeddings\n",
    "from flair.models import TextClassifier\n",
    "from flair.trainers import ModelTrainer\n",
    "\n",
    "from flair.data import Corpus\n",
    "from flair.datasets import CSVClassificationCorpus\n",
    "import pandas as pd\n",
    "from sklearn.model_selection import train_test_split"
   ]
  },
  {
   "cell_type": "code",
   "execution_count": 7,
   "outputs": [
    {
     "name": "stdout",
     "output_type": "stream",
     "text": [
      "2023-03-20 13:10:34,156 Computing label dictionary. Progress:\n"
     ]
    },
    {
     "name": "stderr",
     "output_type": "stream",
     "text": [
      "320it [00:00, 20463.76it/s]"
     ]
    },
    {
     "name": "stdout",
     "output_type": "stream",
     "text": [
      "2023-03-20 13:10:34,172 Dictionary created for label 'satisfaction' with 26 values: 3.0 (seen 200 times), 2.5 (seen 31 times), 2.0 (seen 26 times), 2.666666667 (seen 16 times), 3.5 (seen 7 times), 1.0 (seen 5 times), 2.333333333 (seen 4 times), 1.666666667 (seen 4 times), 1.333333333 (seen 4 times), 4.0 (seen 3 times), 1.25 (seen 2 times), 2.142857143 (seen 2 times), 1.5 (seen 2 times), 4.666666667 (seen 2 times), 3.666666667 (seen 2 times), 2.25 (seen 1 times), 2.8 (seen 1 times), 2.571428571 (seen 1 times), 4.5 (seen 1 times), 2.75 (seen 1 times)\n"
     ]
    },
    {
     "name": "stderr",
     "output_type": "stream",
     "text": [
      "\n"
     ]
    },
    {
     "name": "stdout",
     "output_type": "stream",
     "text": [
      "2023-03-20 13:10:37,121 ----------------------------------------------------------------------------------------------------\n",
      "2023-03-20 13:10:37,121 Model: \"TextClassifier(\n",
      "  (embeddings): TransformerDocumentEmbeddings(\n",
      "    (model): DistilBertModel(\n",
      "      (embeddings): Embeddings(\n",
      "        (word_embeddings): Embedding(30523, 768)\n",
      "        (position_embeddings): Embedding(512, 768)\n",
      "        (LayerNorm): LayerNorm((768,), eps=1e-12, elementwise_affine=True)\n",
      "        (dropout): Dropout(p=0.1, inplace=False)\n",
      "      )\n",
      "      (transformer): Transformer(\n",
      "        (layer): ModuleList(\n",
      "          (0): TransformerBlock(\n",
      "            (attention): MultiHeadSelfAttention(\n",
      "              (dropout): Dropout(p=0.1, inplace=False)\n",
      "              (q_lin): Linear(in_features=768, out_features=768, bias=True)\n",
      "              (k_lin): Linear(in_features=768, out_features=768, bias=True)\n",
      "              (v_lin): Linear(in_features=768, out_features=768, bias=True)\n",
      "              (out_lin): Linear(in_features=768, out_features=768, bias=True)\n",
      "            )\n",
      "            (sa_layer_norm): LayerNorm((768,), eps=1e-12, elementwise_affine=True)\n",
      "            (ffn): FFN(\n",
      "              (dropout): Dropout(p=0.1, inplace=False)\n",
      "              (lin1): Linear(in_features=768, out_features=3072, bias=True)\n",
      "              (lin2): Linear(in_features=3072, out_features=768, bias=True)\n",
      "              (activation): GELUActivation()\n",
      "            )\n",
      "            (output_layer_norm): LayerNorm((768,), eps=1e-12, elementwise_affine=True)\n",
      "          )\n",
      "          (1): TransformerBlock(\n",
      "            (attention): MultiHeadSelfAttention(\n",
      "              (dropout): Dropout(p=0.1, inplace=False)\n",
      "              (q_lin): Linear(in_features=768, out_features=768, bias=True)\n",
      "              (k_lin): Linear(in_features=768, out_features=768, bias=True)\n",
      "              (v_lin): Linear(in_features=768, out_features=768, bias=True)\n",
      "              (out_lin): Linear(in_features=768, out_features=768, bias=True)\n",
      "            )\n",
      "            (sa_layer_norm): LayerNorm((768,), eps=1e-12, elementwise_affine=True)\n",
      "            (ffn): FFN(\n",
      "              (dropout): Dropout(p=0.1, inplace=False)\n",
      "              (lin1): Linear(in_features=768, out_features=3072, bias=True)\n",
      "              (lin2): Linear(in_features=3072, out_features=768, bias=True)\n",
      "              (activation): GELUActivation()\n",
      "            )\n",
      "            (output_layer_norm): LayerNorm((768,), eps=1e-12, elementwise_affine=True)\n",
      "          )\n",
      "          (2): TransformerBlock(\n",
      "            (attention): MultiHeadSelfAttention(\n",
      "              (dropout): Dropout(p=0.1, inplace=False)\n",
      "              (q_lin): Linear(in_features=768, out_features=768, bias=True)\n",
      "              (k_lin): Linear(in_features=768, out_features=768, bias=True)\n",
      "              (v_lin): Linear(in_features=768, out_features=768, bias=True)\n",
      "              (out_lin): Linear(in_features=768, out_features=768, bias=True)\n",
      "            )\n",
      "            (sa_layer_norm): LayerNorm((768,), eps=1e-12, elementwise_affine=True)\n",
      "            (ffn): FFN(\n",
      "              (dropout): Dropout(p=0.1, inplace=False)\n",
      "              (lin1): Linear(in_features=768, out_features=3072, bias=True)\n",
      "              (lin2): Linear(in_features=3072, out_features=768, bias=True)\n",
      "              (activation): GELUActivation()\n",
      "            )\n",
      "            (output_layer_norm): LayerNorm((768,), eps=1e-12, elementwise_affine=True)\n",
      "          )\n",
      "          (3): TransformerBlock(\n",
      "            (attention): MultiHeadSelfAttention(\n",
      "              (dropout): Dropout(p=0.1, inplace=False)\n",
      "              (q_lin): Linear(in_features=768, out_features=768, bias=True)\n",
      "              (k_lin): Linear(in_features=768, out_features=768, bias=True)\n",
      "              (v_lin): Linear(in_features=768, out_features=768, bias=True)\n",
      "              (out_lin): Linear(in_features=768, out_features=768, bias=True)\n",
      "            )\n",
      "            (sa_layer_norm): LayerNorm((768,), eps=1e-12, elementwise_affine=True)\n",
      "            (ffn): FFN(\n",
      "              (dropout): Dropout(p=0.1, inplace=False)\n",
      "              (lin1): Linear(in_features=768, out_features=3072, bias=True)\n",
      "              (lin2): Linear(in_features=3072, out_features=768, bias=True)\n",
      "              (activation): GELUActivation()\n",
      "            )\n",
      "            (output_layer_norm): LayerNorm((768,), eps=1e-12, elementwise_affine=True)\n",
      "          )\n",
      "          (4): TransformerBlock(\n",
      "            (attention): MultiHeadSelfAttention(\n",
      "              (dropout): Dropout(p=0.1, inplace=False)\n",
      "              (q_lin): Linear(in_features=768, out_features=768, bias=True)\n",
      "              (k_lin): Linear(in_features=768, out_features=768, bias=True)\n",
      "              (v_lin): Linear(in_features=768, out_features=768, bias=True)\n",
      "              (out_lin): Linear(in_features=768, out_features=768, bias=True)\n",
      "            )\n",
      "            (sa_layer_norm): LayerNorm((768,), eps=1e-12, elementwise_affine=True)\n",
      "            (ffn): FFN(\n",
      "              (dropout): Dropout(p=0.1, inplace=False)\n",
      "              (lin1): Linear(in_features=768, out_features=3072, bias=True)\n",
      "              (lin2): Linear(in_features=3072, out_features=768, bias=True)\n",
      "              (activation): GELUActivation()\n",
      "            )\n",
      "            (output_layer_norm): LayerNorm((768,), eps=1e-12, elementwise_affine=True)\n",
      "          )\n",
      "          (5): TransformerBlock(\n",
      "            (attention): MultiHeadSelfAttention(\n",
      "              (dropout): Dropout(p=0.1, inplace=False)\n",
      "              (q_lin): Linear(in_features=768, out_features=768, bias=True)\n",
      "              (k_lin): Linear(in_features=768, out_features=768, bias=True)\n",
      "              (v_lin): Linear(in_features=768, out_features=768, bias=True)\n",
      "              (out_lin): Linear(in_features=768, out_features=768, bias=True)\n",
      "            )\n",
      "            (sa_layer_norm): LayerNorm((768,), eps=1e-12, elementwise_affine=True)\n",
      "            (ffn): FFN(\n",
      "              (dropout): Dropout(p=0.1, inplace=False)\n",
      "              (lin1): Linear(in_features=768, out_features=3072, bias=True)\n",
      "              (lin2): Linear(in_features=3072, out_features=768, bias=True)\n",
      "              (activation): GELUActivation()\n",
      "            )\n",
      "            (output_layer_norm): LayerNorm((768,), eps=1e-12, elementwise_affine=True)\n",
      "          )\n",
      "        )\n",
      "      )\n",
      "    )\n",
      "  )\n",
      "  (decoder): Linear(in_features=768, out_features=26, bias=True)\n",
      "  (dropout): Dropout(p=0.0, inplace=False)\n",
      "  (locked_dropout): LockedDropout(p=0.0)\n",
      "  (word_dropout): WordDropout(p=0.0)\n",
      "  (loss_function): CrossEntropyLoss()\n",
      "  (weights): None\n",
      "  (weight_tensor) None\n",
      ")\"\n",
      "2023-03-20 13:10:37,121 ----------------------------------------------------------------------------------------------------\n",
      "2023-03-20 13:10:37,121 Corpus: \"Corpus: 320 train + 80 dev + 100 test sentences\"\n",
      "2023-03-20 13:10:37,121 ----------------------------------------------------------------------------------------------------\n",
      "2023-03-20 13:10:37,121 Parameters:\n",
      "2023-03-20 13:10:37,130  - learning_rate: \"0.000050\"\n",
      "2023-03-20 13:10:37,130  - mini_batch_size: \"4\"\n",
      "2023-03-20 13:10:37,130  - patience: \"3\"\n",
      "2023-03-20 13:10:37,130  - anneal_factor: \"0.5\"\n",
      "2023-03-20 13:10:37,130  - max_epochs: \"10\"\n",
      "2023-03-20 13:10:37,130  - shuffle: \"True\"\n",
      "2023-03-20 13:10:37,130  - train_with_dev: \"False\"\n",
      "2023-03-20 13:10:37,130  - batch_growth_annealing: \"False\"\n",
      "2023-03-20 13:10:37,137 ----------------------------------------------------------------------------------------------------\n",
      "2023-03-20 13:10:37,137 Model training base path: \"\\Users\\jackw\\Downloads\\flair_satisfaction\"\n",
      "2023-03-20 13:10:37,137 ----------------------------------------------------------------------------------------------------\n",
      "2023-03-20 13:10:37,137 Device: cpu\n",
      "2023-03-20 13:10:37,137 ----------------------------------------------------------------------------------------------------\n",
      "2023-03-20 13:10:37,137 Embeddings storage mode: none\n",
      "2023-03-20 13:10:37,137 ----------------------------------------------------------------------------------------------------\n",
      "2023-03-20 13:10:44,872 epoch 1 - iter 8/80 - loss 3.47738343 - time (sec): 7.73 - samples/sec: 4.14 - lr: 0.000005\n",
      "2023-03-20 13:10:53,423 epoch 1 - iter 16/80 - loss 3.29109040 - time (sec): 16.29 - samples/sec: 3.93 - lr: 0.000010\n",
      "2023-03-20 13:11:02,075 epoch 1 - iter 24/80 - loss 3.04221985 - time (sec): 24.94 - samples/sec: 3.85 - lr: 0.000015\n",
      "2023-03-20 13:11:10,231 epoch 1 - iter 32/80 - loss 2.80296285 - time (sec): 33.09 - samples/sec: 3.87 - lr: 0.000020\n",
      "2023-03-20 13:11:18,640 epoch 1 - iter 40/80 - loss 2.52192566 - time (sec): 41.50 - samples/sec: 3.86 - lr: 0.000025\n",
      "2023-03-20 13:11:26,664 epoch 1 - iter 48/80 - loss 2.35523683 - time (sec): 49.53 - samples/sec: 3.88 - lr: 0.000030\n",
      "2023-03-20 13:11:34,543 epoch 1 - iter 56/80 - loss 2.23975716 - time (sec): 57.41 - samples/sec: 3.90 - lr: 0.000035\n",
      "2023-03-20 13:11:42,289 epoch 1 - iter 64/80 - loss 2.11683929 - time (sec): 65.15 - samples/sec: 3.93 - lr: 0.000040\n",
      "2023-03-20 13:11:51,154 epoch 1 - iter 72/80 - loss 2.09718026 - time (sec): 74.02 - samples/sec: 3.89 - lr: 0.000045\n",
      "2023-03-20 13:11:58,257 epoch 1 - iter 80/80 - loss 2.04073556 - time (sec): 81.12 - samples/sec: 3.94 - lr: 0.000050\n",
      "2023-03-20 13:11:58,257 ----------------------------------------------------------------------------------------------------\n",
      "2023-03-20 13:11:58,257 EPOCH 1 done: loss 2.0407 - lr 0.000050\n"
     ]
    },
    {
     "name": "stderr",
     "output_type": "stream",
     "text": [
      "100%|██████████| 20/20 [00:02<00:00,  6.95it/s]"
     ]
    },
    {
     "name": "stdout",
     "output_type": "stream",
     "text": [
      "2023-03-20 13:12:01,147 Evaluating as a multi-label problem: False\n",
      "2023-03-20 13:12:01,162 DEV : loss 1.8685948848724365 - f1-score (micro avg)  0.5625\n",
      "2023-03-20 13:12:01,178 ----------------------------------------------------------------------------------------------------\n"
     ]
    },
    {
     "name": "stderr",
     "output_type": "stream",
     "text": [
      "\n"
     ]
    },
    {
     "name": "stdout",
     "output_type": "stream",
     "text": [
      "2023-03-20 13:12:08,962 epoch 2 - iter 8/80 - loss 1.85454489 - time (sec): 7.78 - samples/sec: 4.11 - lr: 0.000049\n",
      "2023-03-20 13:12:16,482 epoch 2 - iter 16/80 - loss 1.65494523 - time (sec): 15.30 - samples/sec: 4.18 - lr: 0.000049\n",
      "2023-03-20 13:12:26,608 epoch 2 - iter 24/80 - loss 1.48691610 - time (sec): 25.43 - samples/sec: 3.77 - lr: 0.000048\n",
      "2023-03-20 13:12:37,209 epoch 2 - iter 32/80 - loss 1.42095651 - time (sec): 36.03 - samples/sec: 3.55 - lr: 0.000048\n",
      "2023-03-20 13:12:57,753 epoch 2 - iter 40/80 - loss 1.36709976 - time (sec): 56.57 - samples/sec: 2.83 - lr: 0.000047\n",
      "2023-03-20 13:13:08,725 epoch 2 - iter 48/80 - loss 1.35530987 - time (sec): 67.55 - samples/sec: 2.84 - lr: 0.000047\n",
      "2023-03-20 13:13:20,627 epoch 2 - iter 56/80 - loss 1.31977985 - time (sec): 79.45 - samples/sec: 2.82 - lr: 0.000046\n",
      "2023-03-20 13:13:35,473 epoch 2 - iter 64/80 - loss 1.36215126 - time (sec): 94.30 - samples/sec: 2.71 - lr: 0.000046\n",
      "2023-03-20 13:13:45,342 epoch 2 - iter 72/80 - loss 1.34339321 - time (sec): 104.16 - samples/sec: 2.76 - lr: 0.000045\n",
      "2023-03-20 13:13:53,889 epoch 2 - iter 80/80 - loss 1.37536650 - time (sec): 112.71 - samples/sec: 2.84 - lr: 0.000044\n",
      "2023-03-20 13:13:53,889 ----------------------------------------------------------------------------------------------------\n",
      "2023-03-20 13:13:53,889 EPOCH 2 done: loss 1.3754 - lr 0.000044\n"
     ]
    },
    {
     "name": "stderr",
     "output_type": "stream",
     "text": [
      "100%|██████████| 20/20 [00:03<00:00,  5.57it/s]"
     ]
    },
    {
     "name": "stdout",
     "output_type": "stream",
     "text": [
      "2023-03-20 13:13:57,482 Evaluating as a multi-label problem: False\n",
      "2023-03-20 13:13:57,496 DEV : loss 1.8217980861663818 - f1-score (micro avg)  0.55\n",
      "2023-03-20 13:13:57,498 ----------------------------------------------------------------------------------------------------\n"
     ]
    },
    {
     "name": "stderr",
     "output_type": "stream",
     "text": [
      "\n"
     ]
    },
    {
     "name": "stdout",
     "output_type": "stream",
     "text": [
      "2023-03-20 13:14:06,683 epoch 3 - iter 8/80 - loss 0.51640341 - time (sec): 9.18 - samples/sec: 3.48 - lr: 0.000044\n",
      "2023-03-20 13:14:19,100 epoch 3 - iter 16/80 - loss 0.80654432 - time (sec): 21.60 - samples/sec: 2.96 - lr: 0.000043\n",
      "2023-03-20 13:14:28,715 epoch 3 - iter 24/80 - loss 0.81907817 - time (sec): 31.22 - samples/sec: 3.08 - lr: 0.000043\n",
      "2023-03-20 13:14:37,680 epoch 3 - iter 32/80 - loss 0.77111608 - time (sec): 40.18 - samples/sec: 3.19 - lr: 0.000042\n",
      "2023-03-20 13:14:47,205 epoch 3 - iter 40/80 - loss 0.71905359 - time (sec): 49.71 - samples/sec: 3.22 - lr: 0.000042\n",
      "2023-03-20 13:14:57,822 epoch 3 - iter 48/80 - loss 0.72403207 - time (sec): 60.32 - samples/sec: 3.18 - lr: 0.000041\n",
      "2023-03-20 13:15:07,999 epoch 3 - iter 56/80 - loss 0.69118945 - time (sec): 70.50 - samples/sec: 3.18 - lr: 0.000041\n",
      "2023-03-20 13:15:15,381 epoch 3 - iter 64/80 - loss 0.76400910 - time (sec): 77.88 - samples/sec: 3.29 - lr: 0.000040\n",
      "2023-03-20 13:15:22,969 epoch 3 - iter 72/80 - loss 0.75448044 - time (sec): 85.47 - samples/sec: 3.37 - lr: 0.000040\n",
      "2023-03-20 13:15:30,680 epoch 3 - iter 80/80 - loss 0.72816873 - time (sec): 93.18 - samples/sec: 3.43 - lr: 0.000039\n",
      "2023-03-20 13:15:30,681 ----------------------------------------------------------------------------------------------------\n",
      "2023-03-20 13:15:30,681 EPOCH 3 done: loss 0.7282 - lr 0.000039\n"
     ]
    },
    {
     "name": "stderr",
     "output_type": "stream",
     "text": [
      "100%|██████████| 20/20 [00:02<00:00,  6.89it/s]"
     ]
    },
    {
     "name": "stdout",
     "output_type": "stream",
     "text": [
      "2023-03-20 13:15:33,585 Evaluating as a multi-label problem: False\n",
      "2023-03-20 13:15:33,599 DEV : loss 2.152174472808838 - f1-score (micro avg)  0.525\n",
      "2023-03-20 13:15:33,599 ----------------------------------------------------------------------------------------------------\n"
     ]
    },
    {
     "name": "stderr",
     "output_type": "stream",
     "text": [
      "\n"
     ]
    },
    {
     "name": "stdout",
     "output_type": "stream",
     "text": [
      "2023-03-20 13:15:42,312 epoch 4 - iter 8/80 - loss 0.20680206 - time (sec): 8.71 - samples/sec: 3.67 - lr: 0.000038\n",
      "2023-03-20 13:15:50,367 epoch 4 - iter 16/80 - loss 0.26206356 - time (sec): 16.77 - samples/sec: 3.82 - lr: 0.000038\n",
      "2023-03-20 13:15:57,757 epoch 4 - iter 24/80 - loss 0.21404706 - time (sec): 24.16 - samples/sec: 3.97 - lr: 0.000037\n",
      "2023-03-20 13:16:05,647 epoch 4 - iter 32/80 - loss 0.20346068 - time (sec): 32.05 - samples/sec: 3.99 - lr: 0.000037\n",
      "2023-03-20 13:16:14,296 epoch 4 - iter 40/80 - loss 0.18137156 - time (sec): 40.70 - samples/sec: 3.93 - lr: 0.000036\n",
      "2023-03-20 13:16:24,458 epoch 4 - iter 48/80 - loss 0.17266371 - time (sec): 50.86 - samples/sec: 3.78 - lr: 0.000036\n",
      "2023-03-20 13:16:36,421 epoch 4 - iter 56/80 - loss 0.16797543 - time (sec): 62.82 - samples/sec: 3.57 - lr: 0.000035\n",
      "2023-03-20 13:16:44,342 epoch 4 - iter 64/80 - loss 0.19604940 - time (sec): 70.74 - samples/sec: 3.62 - lr: 0.000035\n",
      "2023-03-20 13:16:52,346 epoch 4 - iter 72/80 - loss 0.18487235 - time (sec): 78.75 - samples/sec: 3.66 - lr: 0.000034\n",
      "2023-03-20 13:16:59,886 epoch 4 - iter 80/80 - loss 0.18922972 - time (sec): 86.29 - samples/sec: 3.71 - lr: 0.000033\n",
      "2023-03-20 13:16:59,886 ----------------------------------------------------------------------------------------------------\n",
      "2023-03-20 13:16:59,886 EPOCH 4 done: loss 0.1892 - lr 0.000033\n"
     ]
    },
    {
     "name": "stderr",
     "output_type": "stream",
     "text": [
      "100%|██████████| 20/20 [00:02<00:00,  6.97it/s]"
     ]
    },
    {
     "name": "stdout",
     "output_type": "stream",
     "text": [
      "2023-03-20 13:17:02,775 Evaluating as a multi-label problem: False\n",
      "2023-03-20 13:17:02,790 DEV : loss 2.600785732269287 - f1-score (micro avg)  0.55\n",
      "2023-03-20 13:17:02,793 ----------------------------------------------------------------------------------------------------\n"
     ]
    },
    {
     "name": "stderr",
     "output_type": "stream",
     "text": [
      "\n"
     ]
    },
    {
     "name": "stdout",
     "output_type": "stream",
     "text": [
      "2023-03-20 13:17:10,612 epoch 5 - iter 8/80 - loss 0.00853100 - time (sec): 7.82 - samples/sec: 4.09 - lr: 0.000033\n",
      "2023-03-20 13:17:19,128 epoch 5 - iter 16/80 - loss 0.03005336 - time (sec): 16.33 - samples/sec: 3.92 - lr: 0.000032\n",
      "2023-03-20 13:17:27,265 epoch 5 - iter 24/80 - loss 0.02466536 - time (sec): 24.47 - samples/sec: 3.92 - lr: 0.000032\n",
      "2023-03-20 13:17:36,286 epoch 5 - iter 32/80 - loss 0.02746348 - time (sec): 33.49 - samples/sec: 3.82 - lr: 0.000031\n",
      "2023-03-20 13:17:46,969 epoch 5 - iter 40/80 - loss 0.02815301 - time (sec): 44.17 - samples/sec: 3.62 - lr: 0.000031\n",
      "2023-03-20 13:17:56,175 epoch 5 - iter 48/80 - loss 0.03962723 - time (sec): 53.38 - samples/sec: 3.60 - lr: 0.000030\n",
      "2023-03-20 13:18:05,251 epoch 5 - iter 56/80 - loss 0.03835640 - time (sec): 62.46 - samples/sec: 3.59 - lr: 0.000030\n",
      "2023-03-20 13:18:14,257 epoch 5 - iter 64/80 - loss 0.03501923 - time (sec): 71.46 - samples/sec: 3.58 - lr: 0.000029\n",
      "2023-03-20 13:18:23,051 epoch 5 - iter 72/80 - loss 0.03233662 - time (sec): 80.26 - samples/sec: 3.59 - lr: 0.000029\n",
      "2023-03-20 13:18:30,944 epoch 5 - iter 80/80 - loss 0.03285865 - time (sec): 88.15 - samples/sec: 3.63 - lr: 0.000028\n",
      "2023-03-20 13:18:30,944 ----------------------------------------------------------------------------------------------------\n",
      "2023-03-20 13:18:30,944 EPOCH 5 done: loss 0.0329 - lr 0.000028\n"
     ]
    },
    {
     "name": "stderr",
     "output_type": "stream",
     "text": [
      "100%|██████████| 20/20 [00:02<00:00,  6.67it/s]"
     ]
    },
    {
     "name": "stdout",
     "output_type": "stream",
     "text": [
      "2023-03-20 13:18:33,943 Evaluating as a multi-label problem: False\n",
      "2023-03-20 13:18:33,972 DEV : loss 2.9774205684661865 - f1-score (micro avg)  0.5375\n",
      "2023-03-20 13:18:33,972 ----------------------------------------------------------------------------------------------------\n"
     ]
    },
    {
     "name": "stderr",
     "output_type": "stream",
     "text": [
      "\n"
     ]
    },
    {
     "name": "stdout",
     "output_type": "stream",
     "text": [
      "2023-03-20 13:18:42,285 epoch 6 - iter 8/80 - loss 0.00303210 - time (sec): 8.31 - samples/sec: 3.85 - lr: 0.000027\n",
      "2023-03-20 13:18:51,017 epoch 6 - iter 16/80 - loss 0.00247212 - time (sec): 17.05 - samples/sec: 3.75 - lr: 0.000027\n",
      "2023-03-20 13:18:59,098 epoch 6 - iter 24/80 - loss 0.00321819 - time (sec): 25.13 - samples/sec: 3.82 - lr: 0.000026\n",
      "2023-03-20 13:19:07,517 epoch 6 - iter 32/80 - loss 0.00386014 - time (sec): 33.55 - samples/sec: 3.82 - lr: 0.000026\n",
      "2023-03-20 13:19:15,810 epoch 6 - iter 40/80 - loss 0.00365184 - time (sec): 41.84 - samples/sec: 3.82 - lr: 0.000025\n",
      "2023-03-20 13:19:23,855 epoch 6 - iter 48/80 - loss 0.00580760 - time (sec): 49.88 - samples/sec: 3.85 - lr: 0.000025\n",
      "2023-03-20 13:19:31,942 epoch 6 - iter 56/80 - loss 0.00563232 - time (sec): 57.97 - samples/sec: 3.86 - lr: 0.000024\n",
      "2023-03-20 13:19:40,345 epoch 6 - iter 64/80 - loss 0.00514343 - time (sec): 66.37 - samples/sec: 3.86 - lr: 0.000024\n",
      "2023-03-20 13:19:48,179 epoch 6 - iter 72/80 - loss 0.00474909 - time (sec): 74.21 - samples/sec: 3.88 - lr: 0.000023\n",
      "2023-03-20 13:19:55,345 epoch 6 - iter 80/80 - loss 0.00442120 - time (sec): 81.37 - samples/sec: 3.93 - lr: 0.000022\n",
      "2023-03-20 13:19:55,349 ----------------------------------------------------------------------------------------------------\n",
      "2023-03-20 13:19:55,349 EPOCH 6 done: loss 0.0044 - lr 0.000022\n"
     ]
    },
    {
     "name": "stderr",
     "output_type": "stream",
     "text": [
      "100%|██████████| 20/20 [00:02<00:00,  6.82it/s]"
     ]
    },
    {
     "name": "stdout",
     "output_type": "stream",
     "text": [
      "2023-03-20 13:19:58,281 Evaluating as a multi-label problem: False\n",
      "2023-03-20 13:19:58,298 DEV : loss 2.894951581954956 - f1-score (micro avg)  0.525\n",
      "2023-03-20 13:19:58,298 ----------------------------------------------------------------------------------------------------\n"
     ]
    },
    {
     "name": "stderr",
     "output_type": "stream",
     "text": [
      "\n"
     ]
    },
    {
     "name": "stdout",
     "output_type": "stream",
     "text": [
      "2023-03-20 13:20:06,621 epoch 7 - iter 8/80 - loss 0.00164126 - time (sec): 8.32 - samples/sec: 3.84 - lr: 0.000022\n",
      "2023-03-20 13:20:15,130 epoch 7 - iter 16/80 - loss 0.00119138 - time (sec): 16.83 - samples/sec: 3.80 - lr: 0.000021\n",
      "2023-03-20 13:20:23,489 epoch 7 - iter 24/80 - loss 0.00110998 - time (sec): 25.19 - samples/sec: 3.81 - lr: 0.000021\n",
      "2023-03-20 13:20:30,806 epoch 7 - iter 32/80 - loss 0.00105959 - time (sec): 32.51 - samples/sec: 3.94 - lr: 0.000020\n",
      "2023-03-20 13:20:38,556 epoch 7 - iter 40/80 - loss 0.00109056 - time (sec): 40.26 - samples/sec: 3.97 - lr: 0.000020\n",
      "2023-03-20 13:20:45,898 epoch 7 - iter 48/80 - loss 0.00101654 - time (sec): 47.60 - samples/sec: 4.03 - lr: 0.000019\n",
      "2023-03-20 13:20:54,374 epoch 7 - iter 56/80 - loss 0.00100449 - time (sec): 56.08 - samples/sec: 3.99 - lr: 0.000019\n",
      "2023-03-20 13:21:02,217 epoch 7 - iter 64/80 - loss 0.00108833 - time (sec): 63.92 - samples/sec: 4.01 - lr: 0.000018\n",
      "2023-03-20 13:21:10,485 epoch 7 - iter 72/80 - loss 0.00102469 - time (sec): 72.19 - samples/sec: 3.99 - lr: 0.000018\n",
      "2023-03-20 13:21:18,240 epoch 7 - iter 80/80 - loss 0.00099774 - time (sec): 79.94 - samples/sec: 4.00 - lr: 0.000017\n",
      "2023-03-20 13:21:18,240 ----------------------------------------------------------------------------------------------------\n",
      "2023-03-20 13:21:18,240 EPOCH 7 done: loss 0.0010 - lr 0.000017\n"
     ]
    },
    {
     "name": "stderr",
     "output_type": "stream",
     "text": [
      "100%|██████████| 20/20 [00:02<00:00,  6.77it/s]"
     ]
    },
    {
     "name": "stdout",
     "output_type": "stream",
     "text": [
      "2023-03-20 13:21:21,226 Evaluating as a multi-label problem: False\n",
      "2023-03-20 13:21:21,240 DEV : loss 3.1520094871520996 - f1-score (micro avg)  0.525\n",
      "2023-03-20 13:21:21,256 ----------------------------------------------------------------------------------------------------\n"
     ]
    },
    {
     "name": "stderr",
     "output_type": "stream",
     "text": [
      "\n"
     ]
    },
    {
     "name": "stdout",
     "output_type": "stream",
     "text": [
      "2023-03-20 13:21:29,377 epoch 8 - iter 8/80 - loss 0.00062055 - time (sec): 8.12 - samples/sec: 3.94 - lr: 0.000016\n",
      "2023-03-20 13:21:40,375 epoch 8 - iter 16/80 - loss 0.00073125 - time (sec): 19.12 - samples/sec: 3.35 - lr: 0.000016\n",
      "2023-03-20 13:21:50,537 epoch 8 - iter 24/80 - loss 0.00068265 - time (sec): 29.28 - samples/sec: 3.28 - lr: 0.000015\n",
      "2023-03-20 13:21:59,378 epoch 8 - iter 32/80 - loss 0.00067235 - time (sec): 38.12 - samples/sec: 3.36 - lr: 0.000015\n",
      "2023-03-20 13:22:07,206 epoch 8 - iter 40/80 - loss 0.00066811 - time (sec): 45.95 - samples/sec: 3.48 - lr: 0.000014\n",
      "2023-03-20 13:22:16,226 epoch 8 - iter 48/80 - loss 0.00066080 - time (sec): 54.97 - samples/sec: 3.49 - lr: 0.000014\n",
      "2023-03-20 13:22:24,438 epoch 8 - iter 56/80 - loss 0.00073703 - time (sec): 63.18 - samples/sec: 3.55 - lr: 0.000013\n",
      "2023-03-20 13:22:33,755 epoch 8 - iter 64/80 - loss 0.00073615 - time (sec): 72.48 - samples/sec: 3.53 - lr: 0.000013\n",
      "2023-03-20 13:22:42,899 epoch 8 - iter 72/80 - loss 0.00075428 - time (sec): 81.64 - samples/sec: 3.53 - lr: 0.000012\n",
      "2023-03-20 13:22:51,278 epoch 8 - iter 80/80 - loss 0.00077166 - time (sec): 90.02 - samples/sec: 3.55 - lr: 0.000011\n",
      "2023-03-20 13:22:51,278 ----------------------------------------------------------------------------------------------------\n",
      "2023-03-20 13:22:51,287 EPOCH 8 done: loss 0.0008 - lr 0.000011\n"
     ]
    },
    {
     "name": "stderr",
     "output_type": "stream",
     "text": [
      "100%|██████████| 20/20 [00:02<00:00,  6.88it/s]"
     ]
    },
    {
     "name": "stdout",
     "output_type": "stream",
     "text": [
      "2023-03-20 13:22:54,204 Evaluating as a multi-label problem: False\n",
      "2023-03-20 13:22:54,211 DEV : loss 3.1452202796936035 - f1-score (micro avg)  0.525\n",
      "2023-03-20 13:22:54,226 ----------------------------------------------------------------------------------------------------\n"
     ]
    },
    {
     "name": "stderr",
     "output_type": "stream",
     "text": [
      "\n"
     ]
    },
    {
     "name": "stdout",
     "output_type": "stream",
     "text": [
      "2023-03-20 13:23:01,532 epoch 9 - iter 8/80 - loss 0.00076233 - time (sec): 7.30 - samples/sec: 4.38 - lr: 0.000011\n",
      "2023-03-20 13:23:10,652 epoch 9 - iter 16/80 - loss 0.00073520 - time (sec): 16.42 - samples/sec: 3.90 - lr: 0.000010\n",
      "2023-03-20 13:23:18,747 epoch 9 - iter 24/80 - loss 0.00079627 - time (sec): 24.52 - samples/sec: 3.92 - lr: 0.000010\n",
      "2023-03-20 13:23:26,691 epoch 9 - iter 32/80 - loss 0.00067644 - time (sec): 32.46 - samples/sec: 3.94 - lr: 0.000009\n",
      "2023-03-20 13:23:35,510 epoch 9 - iter 40/80 - loss 0.00062216 - time (sec): 41.28 - samples/sec: 3.88 - lr: 0.000009\n",
      "2023-03-20 13:23:43,608 epoch 9 - iter 48/80 - loss 0.00066310 - time (sec): 49.38 - samples/sec: 3.89 - lr: 0.000008\n",
      "2023-03-20 13:23:51,703 epoch 9 - iter 56/80 - loss 0.00064513 - time (sec): 57.48 - samples/sec: 3.90 - lr: 0.000008\n",
      "2023-03-20 13:23:59,884 epoch 9 - iter 64/80 - loss 0.00062931 - time (sec): 65.66 - samples/sec: 3.90 - lr: 0.000007\n",
      "2023-03-20 13:24:08,627 epoch 9 - iter 72/80 - loss 0.00060823 - time (sec): 74.40 - samples/sec: 3.87 - lr: 0.000007\n",
      "2023-03-20 13:24:17,241 epoch 9 - iter 80/80 - loss 0.00060569 - time (sec): 83.01 - samples/sec: 3.85 - lr: 0.000006\n",
      "2023-03-20 13:24:17,246 ----------------------------------------------------------------------------------------------------\n",
      "2023-03-20 13:24:17,246 EPOCH 9 done: loss 0.0006 - lr 0.000006\n"
     ]
    },
    {
     "name": "stderr",
     "output_type": "stream",
     "text": [
      "100%|██████████| 20/20 [00:03<00:00,  6.27it/s]"
     ]
    },
    {
     "name": "stdout",
     "output_type": "stream",
     "text": [
      "2023-03-20 13:24:20,437 Evaluating as a multi-label problem: False\n",
      "2023-03-20 13:24:20,443 DEV : loss 3.201237201690674 - f1-score (micro avg)  0.525\n",
      "2023-03-20 13:24:20,457 ----------------------------------------------------------------------------------------------------\n"
     ]
    },
    {
     "name": "stderr",
     "output_type": "stream",
     "text": [
      "\n"
     ]
    },
    {
     "name": "stdout",
     "output_type": "stream",
     "text": [
      "2023-03-20 13:24:29,660 epoch 10 - iter 8/80 - loss 0.00044219 - time (sec): 9.20 - samples/sec: 3.48 - lr: 0.000005\n",
      "2023-03-20 13:24:38,503 epoch 10 - iter 16/80 - loss 0.00062698 - time (sec): 18.04 - samples/sec: 3.55 - lr: 0.000005\n",
      "2023-03-20 13:24:47,006 epoch 10 - iter 24/80 - loss 0.00058899 - time (sec): 26.55 - samples/sec: 3.62 - lr: 0.000004\n",
      "2023-03-20 13:24:54,865 epoch 10 - iter 32/80 - loss 0.00054431 - time (sec): 34.41 - samples/sec: 3.72 - lr: 0.000004\n",
      "2023-03-20 13:25:02,873 epoch 10 - iter 40/80 - loss 0.00057623 - time (sec): 42.41 - samples/sec: 3.77 - lr: 0.000003\n",
      "2023-03-20 13:25:10,967 epoch 10 - iter 48/80 - loss 0.00053846 - time (sec): 50.51 - samples/sec: 3.80 - lr: 0.000003\n",
      "2023-03-20 13:25:18,621 epoch 10 - iter 56/80 - loss 0.00054017 - time (sec): 58.16 - samples/sec: 3.85 - lr: 0.000002\n",
      "2023-03-20 13:25:26,908 epoch 10 - iter 64/80 - loss 0.00050432 - time (sec): 66.45 - samples/sec: 3.85 - lr: 0.000002\n",
      "2023-03-20 13:25:37,048 epoch 10 - iter 72/80 - loss 0.00051515 - time (sec): 76.59 - samples/sec: 3.76 - lr: 0.000001\n",
      "2023-03-20 13:25:46,981 epoch 10 - iter 80/80 - loss 0.00055162 - time (sec): 86.52 - samples/sec: 3.70 - lr: 0.000000\n",
      "2023-03-20 13:25:46,984 ----------------------------------------------------------------------------------------------------\n",
      "2023-03-20 13:25:46,986 EPOCH 10 done: loss 0.0006 - lr 0.000000\n"
     ]
    },
    {
     "name": "stderr",
     "output_type": "stream",
     "text": [
      "100%|██████████| 20/20 [00:03<00:00,  5.40it/s]"
     ]
    },
    {
     "name": "stdout",
     "output_type": "stream",
     "text": [
      "2023-03-20 13:25:50,696 Evaluating as a multi-label problem: False\n",
      "2023-03-20 13:25:50,709 DEV : loss 3.223639965057373 - f1-score (micro avg)  0.525\n"
     ]
    },
    {
     "name": "stderr",
     "output_type": "stream",
     "text": [
      "\n"
     ]
    },
    {
     "name": "stdout",
     "output_type": "stream",
     "text": [
      "2023-03-20 13:25:53,476 ----------------------------------------------------------------------------------------------------\n",
      "2023-03-20 13:25:53,478 Testing using last state of model ...\n"
     ]
    },
    {
     "name": "stderr",
     "output_type": "stream",
     "text": [
      "100%|██████████| 25/25 [00:04<00:00,  5.45it/s]"
     ]
    },
    {
     "name": "stdout",
     "output_type": "stream",
     "text": [
      "2023-03-20 13:25:58,067 Evaluating as a multi-label problem: False\n",
      "2023-03-20 13:25:58,084 0.65\t0.65\t0.65\t0.65\n",
      "2023-03-20 13:25:58,084 \n",
      "Results:\n",
      "- F-score (micro) 0.65\n",
      "- F-score (macro) 0.0979\n",
      "- Accuracy 0.65\n",
      "\n",
      "By class:\n",
      "              precision    recall  f1-score   support\n",
      "\n",
      "         3.0     0.7209    0.9394    0.8158        66\n",
      "         2.0     0.2500    0.2500    0.2500         8\n",
      "         2.5     0.0000    0.0000    0.0000         6\n",
      " 2.333333333     0.0000    0.0000    0.0000         3\n",
      " 2.666666667     0.5000    0.5000    0.5000         2\n",
      "         1.5     0.0000    0.0000    0.0000         3\n",
      "         1.0     0.0000    0.0000    0.0000         3\n",
      "         4.0     0.0000    0.0000    0.0000         2\n",
      " 3.333333333     0.0000    0.0000    0.0000         1\n",
      " 3.142857143     0.0000    0.0000    0.0000         1\n",
      "        1.25     0.0000    0.0000    0.0000         1\n",
      " 3.666666667     0.0000    0.0000    0.0000         1\n",
      " 1.666666667     0.0000    0.0000    0.0000         1\n",
      "        2.25     0.0000    0.0000    0.0000         1\n",
      "         3.5     0.0000    0.0000    0.0000         1\n",
      " 1.333333333     0.0000    0.0000    0.0000         0\n",
      "\n",
      "    accuracy                         0.6500       100\n",
      "   macro avg     0.0919    0.1056    0.0979       100\n",
      "weighted avg     0.5058    0.6500    0.5684       100\n",
      "\n",
      "2023-03-20 13:25:58,084 ----------------------------------------------------------------------------------------------------\n"
     ]
    },
    {
     "name": "stderr",
     "output_type": "stream",
     "text": [
      "\n"
     ]
    },
    {
     "data": {
      "text/plain": "{'test_score': 0.65,\n 'dev_score_history': [0.5625,\n  0.55,\n  0.525,\n  0.55,\n  0.5375,\n  0.525,\n  0.525,\n  0.525,\n  0.525,\n  0.525],\n 'train_loss_history': [2.040735564753413,\n  1.3753664969932289,\n  0.7281687286973465,\n  0.1892297235161095,\n  0.03285864864847099,\n  0.004421195524628274,\n  0.0009977365751183242,\n  0.000771659546671799,\n  0.0006056859925593017,\n  0.0005516228393844357],\n 'dev_loss_history': [1.8685948848724365,\n  1.8217980861663818,\n  2.152174472808838,\n  2.600785732269287,\n  2.9774205684661865,\n  2.894951581954956,\n  3.1520094871520996,\n  3.1452202796936035,\n  3.201237201690674,\n  3.223639965057373]}"
     },
     "execution_count": 7,
     "metadata": {},
     "output_type": "execute_result"
    }
   ],
   "source": [
    "df = pd.read_csv('Sentence_Annotation_Assignments_Final_Dataset.tsv', sep='\t', nrows=500)  # i limited it to 500 for speed of trainig on a cpu, read all when fully training\n",
    "\n",
    "label_type = 'satisfaction'\n",
    "\n",
    "train_dev, test = train_test_split(df, test_size=0.2)\n",
    "train, dev = train_test_split(train_dev, test_size=0.2)\n",
    "\n",
    "def load_df_to_sentences(df: pd.DataFrame):\n",
    "    sentences = []\n",
    "    for index, row in df.iterrows():\n",
    "        sentence = flair.data.Sentence(row['text'])\n",
    "        label = str(row['satisfaction'])  # must be a string, it's a classification\n",
    "        sentence.add_label(label_type, label, 1.0)\n",
    "        sentences.append(sentence)\n",
    "    return sentences\n",
    "\n",
    "train_sentences = load_df_to_sentences(train)\n",
    "test_sentences = load_df_to_sentences(test)\n",
    "dev_sentences = load_df_to_sentences(dev)\n",
    "\n",
    "\n",
    "\n",
    "# load corpus containing training, test and dev data and if CSV has a header, you can skip it\n",
    "corpus: Corpus = Corpus(train_sentences, dev_sentences, test_sentences)\n",
    "\n",
    "\n",
    "\n",
    "# 3. create the label dictionary\n",
    "label_dict = corpus.make_label_dictionary(label_type=label_type)\n",
    "\n",
    "# 4. initialize transformer document embeddings (many models are available)\n",
    "document_embeddings = TransformerDocumentEmbeddings('distilbert-base-uncased', fine_tune=True)  # transformer embeddings are hard core, awesome, you can experiment\n",
    "\n",
    "# 5. create the text classifier\n",
    "classifier = TextClassifier(document_embeddings, label_dictionary=label_dict, label_type=label_type)\n",
    "\n",
    "# 6. initialize trainer\n",
    "trainer = ModelTrainer(classifier, corpus)\n",
    "\n",
    "# 7. run training with fine-tuning\n",
    "trainer.fine_tune('/Users/jackw/Downloads/flair_satisfaction',\n",
    "                  learning_rate=5.0e-5,  # another good one to mess with\n",
    "                  mini_batch_size=4,  # increase this, higher for a cpu, don't go above 8 on a gpu, sometimes get problem\n",
    "                  max_epochs=10,  # mess with this\n",
    "                  )"
   ],
   "metadata": {
    "collapsed": false,
    "pycharm": {
     "name": "#%%\n"
    }
   }
  }
 ],
 "metadata": {
  "kernelspec": {
   "display_name": "Python 3",
   "language": "python",
   "name": "python3"
  },
  "language_info": {
   "codemirror_mode": {
    "name": "ipython",
    "version": 2
   },
   "file_extension": ".py",
   "mimetype": "text/x-python",
   "name": "python",
   "nbconvert_exporter": "python",
   "pygments_lexer": "ipython2",
   "version": "2.7.6"
  }
 },
 "nbformat": 4,
 "nbformat_minor": 0
}