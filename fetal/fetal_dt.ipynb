{
 "cells": [
  {
   "cell_type": "code",
   "execution_count": 1,
   "metadata": {
    "pycharm": {
     "name": "#%%\n"
    }
   },
   "outputs": [],
   "source": [
    "import pandas as pd\n",
    "import numpy as np\n",
    "from sklearn.tree import DecisionTreeClassifier\n",
    "from sklearn.model_selection import train_test_split\n",
    "from sklearn.metrics import r2_score\n",
    "from sklearn.metrics import mean_squared_error\n",
    "from sklearn.metrics import accuracy_score\n"
   ]
  },
  {
   "cell_type": "code",
   "execution_count": 2,
   "metadata": {
    "pycharm": {
     "name": "#%%\n"
    }
   },
   "outputs": [
    {
     "data": {
      "text/plain": "0     2.0\n1     1.0\n2     1.0\n3     1.0\n4     1.0\n5     3.0\n6     3.0\n7     3.0\n8     3.0\n9     3.0\n10    2.0\n11    2.0\n12    1.0\n13    1.0\n14    1.0\n15    1.0\n16    1.0\n17    2.0\n18    1.0\n19    1.0\n20    3.0\n21    1.0\n22    3.0\n23    3.0\n24    3.0\n25    3.0\n26    3.0\n27    3.0\n28    2.0\n29    1.0\n30    1.0\n31    1.0\n32    1.0\n33    1.0\n34    1.0\n35    1.0\n36    1.0\n37    1.0\n38    1.0\n39    1.0\n40    1.0\n41    1.0\n42    1.0\n43    1.0\n44    1.0\n45    1.0\n46    1.0\n47    1.0\n48    1.0\n49    1.0\nName: fetal_health, dtype: float64"
     },
     "execution_count": 2,
     "metadata": {},
     "output_type": "execute_result"
    }
   ],
   "source": [
    "fetal = pd.read_csv(\"fetal_health.csv\")\n",
    "fetal.head()\n",
    "fetal['fetal_health'][0:50]"
   ]
  },
  {
   "cell_type": "code",
   "execution_count": 3,
   "metadata": {
    "pycharm": {
     "name": "#%%\n"
    }
   },
   "outputs": [],
   "source": [
    "# Check Cross validation if I have time\n",
    "ycol = 'fetal_health'\n",
    "y = fetal[ycol]\n",
    "x = fetal.drop(ycol, axis = 1)"
   ]
  },
  {
   "cell_type": "code",
   "execution_count": 4,
   "metadata": {
    "pycharm": {
     "name": "#%%\n"
    }
   },
   "outputs": [],
   "source": [
    "# train test split\n",
    "x_train, x_test, y_train, y_test = train_test_split(x,y, random_state=1)\n",
    "\n",
    "#Creating decision tree\n",
    "decisiont = DecisionTreeClassifier()\n",
    "decisiont = decisiont.fit(x_train, y_train)"
   ]
  },
  {
   "cell_type": "code",
   "execution_count": 5,
   "metadata": {
    "pycharm": {
     "name": "#%%\n"
    }
   },
   "outputs": [
    {
     "name": "stdout",
     "output_type": "stream",
     "text": [
      "0.9993726474278545\n"
     ]
    }
   ],
   "source": [
    "#See how this did on trainng data\n",
    "y_preds = decisiont.predict(x_train)\n",
    "print(accuracy_score(y_train, y_preds))"
   ]
  },
  {
   "cell_type": "code",
   "execution_count": 6,
   "metadata": {
    "pycharm": {
     "name": "#%%\n"
    }
   },
   "outputs": [
    {
     "name": "stdout",
     "output_type": "stream",
     "text": [
      "accuracy of decision tree: 0.9116541353383458\n"
     ]
    }
   ],
   "source": [
    "# See how this did on the test data\n",
    "y_preds_test = decisiont.predict(x_test)\n",
    "print(\"accuracy of decision tree: \" + str(accuracy_score(y_test, y_preds_test)))\n",
    "    "
   ]
  },
  {
   "cell_type": "code",
   "execution_count": null,
   "metadata": {
    "pycharm": {
     "name": "#%%\n"
    }
   },
   "outputs": [],
   "source": []
  }
 ],
 "metadata": {
  "kernelspec": {
   "display_name": "Python 3.8.10 64-bit",
   "language": "python",
   "name": "python3"
  },
  "language_info": {
   "codemirror_mode": {
    "name": "ipython",
    "version": 3
   },
   "file_extension": ".py",
   "mimetype": "text/x-python",
   "name": "python",
   "nbconvert_exporter": "python",
   "pygments_lexer": "ipython3",
   "version": "3.8.10"
  },
  "orig_nbformat": 4,
  "vscode": {
   "interpreter": {
    "hash": "e7370f93d1d0cde622a1f8e1c04877d8463912d04d973331ad4851f04de6915a"
   }
  }
 },
 "nbformat": 4,
 "nbformat_minor": 2
}